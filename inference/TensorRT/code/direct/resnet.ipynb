{
 "cells": [
  {
   "cell_type": "markdown",
   "metadata": {
    "vscode": {
     "languageId": "plaintext"
    }
   },
   "source": [
    "## Get the model\n",
    "```shell\n",
    "wget https://download.onnxruntime.ai/onnx/models/resnet50.tar.gz\n",
    "tar xzf resnet50.tar.gz\n",
    "```"
   ]
  },
  {
   "cell_type": "markdown",
   "metadata": {},
   "source": []
  },
  {
   "cell_type": "code",
   "execution_count": null,
   "metadata": {},
   "outputs": [
    {
     "ename": "AttributeError",
     "evalue": "'tensorrt_bindings.tensorrt.Builder' object has no attribute 'build_engine'",
     "output_type": "error",
     "traceback": [
      "\u001b[0;31m---------------------------------------------------------------------------\u001b[0m",
      "\u001b[0;31mAttributeError\u001b[0m                            Traceback (most recent call last)",
      "Cell \u001b[0;32mIn[2], line 24\u001b[0m\n\u001b[1;32m     20\u001b[0m config\u001b[38;5;241m.\u001b[39mset_flag(trt\u001b[38;5;241m.\u001b[39mBuilderFlag\u001b[38;5;241m.\u001b[39mFP16)  \u001b[38;5;66;03m# 启用 FP16 加速（可选）\u001b[39;00m\n\u001b[1;32m     21\u001b[0m \u001b[38;5;66;03m# config.max_workspace_size = 1 << 30  # 设置工作区内存（1GB）\u001b[39;00m\n\u001b[1;32m     22\u001b[0m \n\u001b[1;32m     23\u001b[0m \u001b[38;5;66;03m# 构建引擎并保存\u001b[39;00m\n\u001b[0;32m---> 24\u001b[0m engine \u001b[38;5;241m=\u001b[39m builder\u001b[38;5;241m.\u001b[39mbuild_engine(network, config)\n\u001b[1;32m     25\u001b[0m \u001b[38;5;28;01mwith\u001b[39;00m \u001b[38;5;28mopen\u001b[39m(\u001b[38;5;124m\"\u001b[39m\u001b[38;5;124mresnet_engine_intro.engine\u001b[39m\u001b[38;5;124m\"\u001b[39m, \u001b[38;5;124m\"\u001b[39m\u001b[38;5;124mwb\u001b[39m\u001b[38;5;124m\"\u001b[39m) \u001b[38;5;28;01mas\u001b[39;00m f:\n\u001b[1;32m     26\u001b[0m     f\u001b[38;5;241m.\u001b[39mwrite(engine\u001b[38;5;241m.\u001b[39mserialize())\n",
      "\u001b[0;31mAttributeError\u001b[0m: 'tensorrt_bindings.tensorrt.Builder' object has no attribute 'build_engine'"
     ]
    }
   ],
   "source": []
  }
 ],
 "metadata": {
  "kernelspec": {
   "display_name": "pytorch",
   "language": "python",
   "name": "python3"
  },
  "language_info": {
   "codemirror_mode": {
    "name": "ipython",
    "version": 3
   },
   "file_extension": ".py",
   "mimetype": "text/x-python",
   "name": "python",
   "nbconvert_exporter": "python",
   "pygments_lexer": "ipython3",
   "version": "3.11.11"
  }
 },
 "nbformat": 4,
 "nbformat_minor": 2
}
