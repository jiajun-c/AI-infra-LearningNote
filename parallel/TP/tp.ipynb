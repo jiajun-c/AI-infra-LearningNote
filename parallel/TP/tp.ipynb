{
 "cells": [
  {
   "cell_type": "code",
   "execution_count": null,
   "metadata": {},
   "outputs": [],
   "source": [
    "from torch.distributed.tensor.parallel import  parallelize_module, ColwiseParallel, RowwiseParallel\n",
    "from torch.distributed.device_mesh import init_device_mesh\n",
    "\n",
    "m = Model(...)\n",
    "tp_mesh = init_device_mesh(\"cuda\", (8,))\n",
    "m = parallelize_module(m, tp_mesh, {\"w1\": ColwiseParallel(), \"w2\": RowwiseParallel()})"
   ]
  }
 ],
 "metadata": {
  "kernelspec": {
   "display_name": "pytorch",
   "language": "python",
   "name": "python3"
  },
  "language_info": {
   "name": "python",
   "version": "3.11.11"
  }
 },
 "nbformat": 4,
 "nbformat_minor": 2
}
