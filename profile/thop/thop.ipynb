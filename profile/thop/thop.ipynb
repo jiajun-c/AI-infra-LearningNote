{
 "cells": [
  {
   "cell_type": "code",
   "execution_count": 4,
   "metadata": {},
   "outputs": [
    {
     "name": "stderr",
     "output_type": "stream",
     "text": [
      "/home/star/.conda/envs/pytorch/lib/python3.11/site-packages/torchvision/io/image.py:13: UserWarning: Failed to load image Python extension: '/home/star/.conda/envs/pytorch/lib/python3.11/site-packages/torchvision/image.so: undefined symbol: _ZN3c1017RegisterOperatorsD1Ev'If you don't plan on using image functionality from `torchvision.io`, you can ignore this warning. Otherwise, there might be something wrong with your environment. Did you have `libjpeg` or `libpng` installed before building `torchvision` from source?\n",
      "  warn(\n"
     ]
    },
    {
     "name": "stdout",
     "output_type": "stream",
     "text": [
      "[INFO] Register count_convNd() for <class 'torch.nn.modules.conv.Conv2d'>.\n",
      "[INFO] Register count_normalization() for <class 'torch.nn.modules.batchnorm.BatchNorm2d'>.\n",
      "[INFO] Register zero_ops() for <class 'torch.nn.modules.activation.ReLU'>.\n",
      "[INFO] Register zero_ops() for <class 'torch.nn.modules.pooling.MaxPool2d'>.\n",
      "[INFO] Register zero_ops() for <class 'torch.nn.modules.container.Sequential'>.\n",
      "[INFO] Register count_adap_avgpool() for <class 'torch.nn.modules.pooling.AdaptiveAvgPool2d'>.\n",
      "[INFO] Register count_linear() for <class 'torch.nn.modules.linear.Linear'>.\n",
      "Formatted MACs: 4.134G, Formatted Parameters: 25.557M\n"
     ]
    }
   ],
   "source": [
    "import torch\n",
    "from torchvision.models import resnet50  # Example model\n",
    "\n",
    "from thop import clever_format, profile\n",
    "\n",
    "# Load a pre-trained model (e.g., ResNet50)\n",
    "model = resnet50()\n",
    "\n",
    "# Create a dummy input tensor matching the model's expected input shape\n",
    "dummy_input = torch.randn(1, 3, 224, 224)\n",
    "\n",
    "# Profile the model\n",
    "macs, params = profile(model, inputs=(dummy_input,))\n",
    "\n",
    "# Format the numbers into a readable format (e.g., 4.14 GMac, 25.56 MParams)\n",
    "macs_readable, params_readable = clever_format([macs, params], \"%.3f\")\n",
    "\n",
    "print(f\"Formatted MACs: {macs_readable}, Formatted Parameters: {params_readable}\")\n",
    "# Expected output: Formatted MACs: 4.140G, Formatted Parameters: 25.557M\n",
    "# Expected output: MACs: 4139975680.0, Parameters: 25557032.0"
   ]
  },
  {
   "cell_type": "code",
   "execution_count": 3,
   "metadata": {},
   "outputs": [
    {
     "name": "stdout",
     "output_type": "stream",
     "text": [
      "[INFO] Register count_convNd() for <class 'torch.nn.modules.conv.Conv2d'>.\n",
      "[INFO] Customize rule count_your_custom_module() <class '__main__.MyModule'>.\n",
      "Custom MACs: 86704128.0, Parameters: 1792.0\n"
     ]
    }
   ],
   "source": [
    "import torch\n",
    "import torch.nn as nn\n",
    "\n",
    "from thop import profile\n",
    "\n",
    "class MyModule(nn.Module):\n",
    "    def __init__(self):\n",
    "        super().__init__()\n",
    "        self.conv = nn.Conv2d(3, 64, kernel_size=3, stride=1, padding=1)\n",
    "\n",
    "    def forward(self, x):\n",
    "        return self.conv(x)\n",
    "\n",
    "def count_your_custom_module(module, x, y):\n",
    "    macs = 0\n",
    "    if isinstance(module, nn.Conv2d):\n",
    "        _, _, H, W = y.shape  # Output shape\n",
    "        k_h, k_w = module.kernel_size\n",
    "        in_c = module.in_channels\n",
    "        out_c = module.out_channels\n",
    "        groups = module.groups\n",
    "        macs = (k_h * k_w * in_c * out_c * H * W) / groups\n",
    "    module.total_ops += torch.DoubleTensor([macs])  \n",
    "\n",
    "model = MyModule()  # Or a larger model incorporating this module\n",
    "dummy_input = torch.randn(1, 3, 224, 224)\n",
    "macs, params = profile(model, inputs=(dummy_input,), custom_ops={MyModule: count_your_custom_module})\n",
    "print(f\"Custom MACs: {macs}, Parameters: {params}\")\n"
   ]
  }
 ],
 "metadata": {
  "kernelspec": {
   "display_name": "pytorch",
   "language": "python",
   "name": "python3"
  },
  "language_info": {
   "codemirror_mode": {
    "name": "ipython",
    "version": 3
   },
   "file_extension": ".py",
   "mimetype": "text/x-python",
   "name": "python",
   "nbconvert_exporter": "python",
   "pygments_lexer": "ipython3",
   "version": "3.11.9"
  }
 },
 "nbformat": 4,
 "nbformat_minor": 2
}
