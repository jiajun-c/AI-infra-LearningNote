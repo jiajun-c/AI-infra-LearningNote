{
 "cells": [
  {
   "cell_type": "code",
   "execution_count": null,
   "metadata": {
    "vscode": {
     "languageId": "plaintext"
    }
   },
   "outputs": [],
   "source": [
    "import torch\n",
    "from torch import nn\n",
    "##############################\n",
    "# Part1：插入节点\n",
    "##############################\n",
    "\n",
    "# 修改前\n",
    "class net(nn.Module):\n",
    "    def __init__(self):\n",
    "        self.backbone = mobilenet()\n",
    "\n",
    "     def forward(self, x):\n",
    "        x = self.backbone(x) \n",
    "        return x\n",
    "\n",
    "# 修改后\n",
    "from torch.quantization import QuantStub, DeQuantStub\n",
    "class Q_net(nn.Module):\n",
    "    def __init__(self):\n",
    "        self.backbone = mobilenet()\n",
    "        self.quant = QuantStub()\n",
    "        self.dequant = DeQuantStub()\n",
    "\n",
    "     def forward(self, x):\n",
    "        x = self.quant(x)\n",
    "        x = self.backbone(x) \n",
    "        x = self.dequant(x)\n",
    "        return x"
   ]
  }
 ],
 "metadata": {
  "language_info": {
   "name": "python"
  }
 },
 "nbformat": 4,
 "nbformat_minor": 2
}
